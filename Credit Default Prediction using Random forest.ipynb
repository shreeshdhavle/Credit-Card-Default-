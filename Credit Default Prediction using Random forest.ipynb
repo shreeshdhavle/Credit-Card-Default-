{
 "cells": [
  {
   "cell_type": "markdown",
   "metadata": {},
   "source": [
    "## Random Forest - Credit Default Prediction"
   ]
  },
  {
   "cell_type": "code",
   "execution_count": 1,
   "metadata": {},
   "outputs": [],
   "source": [
    "# Importing libraries\n",
    "import pandas as pd\n",
    "import numpy as np\n",
    "import matplotlib.pyplot as plt\n",
    "import seaborn as sns\n",
    "%matplotlib inline\n",
    "\n",
    "# To ignore warnings\n",
    "import warnings\n",
    "warnings.filterwarnings(\"ignore\")"
   ]
  },
  {
   "cell_type": "code",
   "execution_count": 2,
   "metadata": {},
   "outputs": [
    {
     "data": {
      "text/html": [
       "<div>\n",
       "<style scoped>\n",
       "    .dataframe tbody tr th:only-of-type {\n",
       "        vertical-align: middle;\n",
       "    }\n",
       "\n",
       "    .dataframe tbody tr th {\n",
       "        vertical-align: top;\n",
       "    }\n",
       "\n",
       "    .dataframe thead th {\n",
       "        text-align: right;\n",
       "    }\n",
       "</style>\n",
       "<table border=\"1\" class=\"dataframe\">\n",
       "  <thead>\n",
       "    <tr style=\"text-align: right;\">\n",
       "      <th></th>\n",
       "      <th>ID</th>\n",
       "      <th>LIMIT_BAL</th>\n",
       "      <th>SEX</th>\n",
       "      <th>EDUCATION</th>\n",
       "      <th>MARRIAGE</th>\n",
       "      <th>AGE</th>\n",
       "      <th>PAY_0</th>\n",
       "      <th>PAY_2</th>\n",
       "      <th>PAY_3</th>\n",
       "      <th>PAY_4</th>\n",
       "      <th>...</th>\n",
       "      <th>BILL_AMT4</th>\n",
       "      <th>BILL_AMT5</th>\n",
       "      <th>BILL_AMT6</th>\n",
       "      <th>PAY_AMT1</th>\n",
       "      <th>PAY_AMT2</th>\n",
       "      <th>PAY_AMT3</th>\n",
       "      <th>PAY_AMT4</th>\n",
       "      <th>PAY_AMT5</th>\n",
       "      <th>PAY_AMT6</th>\n",
       "      <th>defaulted</th>\n",
       "    </tr>\n",
       "  </thead>\n",
       "  <tbody>\n",
       "    <tr>\n",
       "      <th>0</th>\n",
       "      <td>1</td>\n",
       "      <td>20000</td>\n",
       "      <td>2</td>\n",
       "      <td>2</td>\n",
       "      <td>1</td>\n",
       "      <td>24</td>\n",
       "      <td>2</td>\n",
       "      <td>2</td>\n",
       "      <td>-1</td>\n",
       "      <td>-1</td>\n",
       "      <td>...</td>\n",
       "      <td>0</td>\n",
       "      <td>0</td>\n",
       "      <td>0</td>\n",
       "      <td>0</td>\n",
       "      <td>689</td>\n",
       "      <td>0</td>\n",
       "      <td>0</td>\n",
       "      <td>0</td>\n",
       "      <td>0</td>\n",
       "      <td>1</td>\n",
       "    </tr>\n",
       "    <tr>\n",
       "      <th>1</th>\n",
       "      <td>2</td>\n",
       "      <td>120000</td>\n",
       "      <td>2</td>\n",
       "      <td>2</td>\n",
       "      <td>2</td>\n",
       "      <td>26</td>\n",
       "      <td>-1</td>\n",
       "      <td>2</td>\n",
       "      <td>0</td>\n",
       "      <td>0</td>\n",
       "      <td>...</td>\n",
       "      <td>3272</td>\n",
       "      <td>3455</td>\n",
       "      <td>3261</td>\n",
       "      <td>0</td>\n",
       "      <td>1000</td>\n",
       "      <td>1000</td>\n",
       "      <td>1000</td>\n",
       "      <td>0</td>\n",
       "      <td>2000</td>\n",
       "      <td>1</td>\n",
       "    </tr>\n",
       "    <tr>\n",
       "      <th>2</th>\n",
       "      <td>3</td>\n",
       "      <td>90000</td>\n",
       "      <td>2</td>\n",
       "      <td>2</td>\n",
       "      <td>2</td>\n",
       "      <td>34</td>\n",
       "      <td>0</td>\n",
       "      <td>0</td>\n",
       "      <td>0</td>\n",
       "      <td>0</td>\n",
       "      <td>...</td>\n",
       "      <td>14331</td>\n",
       "      <td>14948</td>\n",
       "      <td>15549</td>\n",
       "      <td>1518</td>\n",
       "      <td>1500</td>\n",
       "      <td>1000</td>\n",
       "      <td>1000</td>\n",
       "      <td>1000</td>\n",
       "      <td>5000</td>\n",
       "      <td>0</td>\n",
       "    </tr>\n",
       "    <tr>\n",
       "      <th>3</th>\n",
       "      <td>4</td>\n",
       "      <td>50000</td>\n",
       "      <td>2</td>\n",
       "      <td>2</td>\n",
       "      <td>1</td>\n",
       "      <td>37</td>\n",
       "      <td>0</td>\n",
       "      <td>0</td>\n",
       "      <td>0</td>\n",
       "      <td>0</td>\n",
       "      <td>...</td>\n",
       "      <td>28314</td>\n",
       "      <td>28959</td>\n",
       "      <td>29547</td>\n",
       "      <td>2000</td>\n",
       "      <td>2019</td>\n",
       "      <td>1200</td>\n",
       "      <td>1100</td>\n",
       "      <td>1069</td>\n",
       "      <td>1000</td>\n",
       "      <td>0</td>\n",
       "    </tr>\n",
       "    <tr>\n",
       "      <th>4</th>\n",
       "      <td>5</td>\n",
       "      <td>50000</td>\n",
       "      <td>1</td>\n",
       "      <td>2</td>\n",
       "      <td>1</td>\n",
       "      <td>57</td>\n",
       "      <td>-1</td>\n",
       "      <td>0</td>\n",
       "      <td>-1</td>\n",
       "      <td>0</td>\n",
       "      <td>...</td>\n",
       "      <td>20940</td>\n",
       "      <td>19146</td>\n",
       "      <td>19131</td>\n",
       "      <td>2000</td>\n",
       "      <td>36681</td>\n",
       "      <td>10000</td>\n",
       "      <td>9000</td>\n",
       "      <td>689</td>\n",
       "      <td>679</td>\n",
       "      <td>0</td>\n",
       "    </tr>\n",
       "  </tbody>\n",
       "</table>\n",
       "<p>5 rows × 25 columns</p>\n",
       "</div>"
      ],
      "text/plain": [
       "   ID  LIMIT_BAL  SEX  EDUCATION  MARRIAGE  AGE  PAY_0  PAY_2  PAY_3  PAY_4  \\\n",
       "0   1      20000    2          2         1   24      2      2     -1     -1   \n",
       "1   2     120000    2          2         2   26     -1      2      0      0   \n",
       "2   3      90000    2          2         2   34      0      0      0      0   \n",
       "3   4      50000    2          2         1   37      0      0      0      0   \n",
       "4   5      50000    1          2         1   57     -1      0     -1      0   \n",
       "\n",
       "   ...  BILL_AMT4  BILL_AMT5  BILL_AMT6  PAY_AMT1  PAY_AMT2  PAY_AMT3  \\\n",
       "0  ...          0          0          0         0       689         0   \n",
       "1  ...       3272       3455       3261         0      1000      1000   \n",
       "2  ...      14331      14948      15549      1518      1500      1000   \n",
       "3  ...      28314      28959      29547      2000      2019      1200   \n",
       "4  ...      20940      19146      19131      2000     36681     10000   \n",
       "\n",
       "   PAY_AMT4  PAY_AMT5  PAY_AMT6  defaulted  \n",
       "0         0         0         0          1  \n",
       "1      1000         0      2000          1  \n",
       "2      1000      1000      5000          0  \n",
       "3      1100      1069      1000          0  \n",
       "4      9000       689       679          0  \n",
       "\n",
       "[5 rows x 25 columns]"
      ]
     },
     "execution_count": 2,
     "metadata": {},
     "output_type": "execute_result"
    }
   ],
   "source": [
    "df = pd.read_csv('credit-card-default.csv')\n",
    "df.head()"
   ]
  },
  {
   "cell_type": "code",
   "execution_count": 3,
   "metadata": {
    "scrolled": true
   },
   "outputs": [
    {
     "name": "stdout",
     "output_type": "stream",
     "text": [
      "<class 'pandas.core.frame.DataFrame'>\n",
      "RangeIndex: 30000 entries, 0 to 29999\n",
      "Data columns (total 25 columns):\n",
      " #   Column     Non-Null Count  Dtype\n",
      "---  ------     --------------  -----\n",
      " 0   ID         30000 non-null  int64\n",
      " 1   LIMIT_BAL  30000 non-null  int64\n",
      " 2   SEX        30000 non-null  int64\n",
      " 3   EDUCATION  30000 non-null  int64\n",
      " 4   MARRIAGE   30000 non-null  int64\n",
      " 5   AGE        30000 non-null  int64\n",
      " 6   PAY_0      30000 non-null  int64\n",
      " 7   PAY_2      30000 non-null  int64\n",
      " 8   PAY_3      30000 non-null  int64\n",
      " 9   PAY_4      30000 non-null  int64\n",
      " 10  PAY_5      30000 non-null  int64\n",
      " 11  PAY_6      30000 non-null  int64\n",
      " 12  BILL_AMT1  30000 non-null  int64\n",
      " 13  BILL_AMT2  30000 non-null  int64\n",
      " 14  BILL_AMT3  30000 non-null  int64\n",
      " 15  BILL_AMT4  30000 non-null  int64\n",
      " 16  BILL_AMT5  30000 non-null  int64\n",
      " 17  BILL_AMT6  30000 non-null  int64\n",
      " 18  PAY_AMT1   30000 non-null  int64\n",
      " 19  PAY_AMT2   30000 non-null  int64\n",
      " 20  PAY_AMT3   30000 non-null  int64\n",
      " 21  PAY_AMT4   30000 non-null  int64\n",
      " 22  PAY_AMT5   30000 non-null  int64\n",
      " 23  PAY_AMT6   30000 non-null  int64\n",
      " 24  defaulted  30000 non-null  int64\n",
      "dtypes: int64(25)\n",
      "memory usage: 5.7 MB\n"
     ]
    }
   ],
   "source": [
    "df.info()"
   ]
  },
  {
   "cell_type": "markdown",
   "metadata": {},
   "source": [
    "### Data Preparation"
   ]
  },
  {
   "cell_type": "code",
   "execution_count": 4,
   "metadata": {},
   "outputs": [],
   "source": [
    "from sklearn.model_selection import train_test_split"
   ]
  },
  {
   "cell_type": "code",
   "execution_count": 5,
   "metadata": {},
   "outputs": [],
   "source": [
    "X = df.drop('defaulted',axis=1)\n",
    "\n",
    "y = df['defaulted']\n",
    "\n",
    "X_train, X_test, y_train, y_test = train_test_split(X, y, test_size=0.30, random_state=101)"
   ]
  },
  {
   "cell_type": "markdown",
   "metadata": {},
   "source": [
    "\n",
    "\n",
    "####  Model Building with Default Hyperparameters\n"
   ]
  },
  {
   "cell_type": "code",
   "execution_count": 6,
   "metadata": {},
   "outputs": [],
   "source": [
    "# Importing random forest classifier\n",
    "from sklearn.ensemble import RandomForestClassifier\n",
    "\n",
    "rfc = RandomForestClassifier()"
   ]
  },
  {
   "cell_type": "code",
   "execution_count": 7,
   "metadata": {},
   "outputs": [
    {
     "data": {
      "text/plain": [
       "RandomForestClassifier(bootstrap=True, ccp_alpha=0.0, class_weight=None,\n",
       "                       criterion='gini', max_depth=None, max_features='auto',\n",
       "                       max_leaf_nodes=None, max_samples=None,\n",
       "                       min_impurity_decrease=0.0, min_impurity_split=None,\n",
       "                       min_samples_leaf=1, min_samples_split=2,\n",
       "                       min_weight_fraction_leaf=0.0, n_estimators=100,\n",
       "                       n_jobs=None, oob_score=False, random_state=None,\n",
       "                       verbose=0, warm_start=False)"
      ]
     },
     "execution_count": 7,
     "metadata": {},
     "output_type": "execute_result"
    }
   ],
   "source": [
    "rfc.fit(X_train,y_train)"
   ]
  },
  {
   "cell_type": "code",
   "execution_count": 8,
   "metadata": {},
   "outputs": [],
   "source": [
    "predictions = rfc.predict(X_test)"
   ]
  },
  {
   "cell_type": "code",
   "execution_count": 9,
   "metadata": {},
   "outputs": [],
   "source": [
    "# Importing classification report and confusion matrix from sklearn metrics\n",
    "from sklearn.metrics import classification_report,confusion_matrix, accuracy_score\n"
   ]
  },
  {
   "cell_type": "code",
   "execution_count": 10,
   "metadata": {},
   "outputs": [
    {
     "name": "stdout",
     "output_type": "stream",
     "text": [
      "              precision    recall  f1-score   support\n",
      "\n",
      "           0       0.84      0.94      0.89      7058\n",
      "           1       0.64      0.36      0.46      1942\n",
      "\n",
      "    accuracy                           0.82      9000\n",
      "   macro avg       0.74      0.65      0.67      9000\n",
      "weighted avg       0.80      0.82      0.80      9000\n",
      "\n"
     ]
    }
   ],
   "source": [
    "print(classification_report(y_test,predictions))"
   ]
  },
  {
   "cell_type": "code",
   "execution_count": 11,
   "metadata": {},
   "outputs": [
    {
     "name": "stdout",
     "output_type": "stream",
     "text": [
      "[[6662  396]\n",
      " [1247  695]]\n"
     ]
    }
   ],
   "source": [
    "print(confusion_matrix(y_test,predictions))"
   ]
  },
  {
   "cell_type": "code",
   "execution_count": 12,
   "metadata": {},
   "outputs": [
    {
     "name": "stdout",
     "output_type": "stream",
     "text": [
      "0.8174444444444444\n"
     ]
    }
   ],
   "source": [
    "print(accuracy_score(y_test,predictions))"
   ]
  },
  {
   "cell_type": "markdown",
   "metadata": {},
   "source": [
    "### Hyperparameter Tuning"
   ]
  },
  {
   "cell_type": "markdown",
   "metadata": {},
   "source": [
    "### Tuning max_depth"
   ]
  },
  {
   "cell_type": "code",
   "execution_count": 13,
   "metadata": {},
   "outputs": [
    {
     "data": {
      "text/plain": [
       "GridSearchCV(cv=5, error_score=nan,\n",
       "             estimator=RandomForestClassifier(bootstrap=True, ccp_alpha=0.0,\n",
       "                                              class_weight=None,\n",
       "                                              criterion='gini', max_depth=None,\n",
       "                                              max_features='auto',\n",
       "                                              max_leaf_nodes=None,\n",
       "                                              max_samples=None,\n",
       "                                              min_impurity_decrease=0.0,\n",
       "                                              min_impurity_split=None,\n",
       "                                              min_samples_leaf=1,\n",
       "                                              min_samples_split=2,\n",
       "                                              min_weight_fraction_leaf=0.0,\n",
       "                                              n_estimators=100, n_jobs=None,\n",
       "                                              oob_score=False,\n",
       "                                              random_state=None, verbose=0,\n",
       "                                              warm_start=False),\n",
       "             iid='deprecated', n_jobs=None,\n",
       "             param_grid={'max_depth': range(2, 20, 5)}, pre_dispatch='2*n_jobs',\n",
       "             refit=True, return_train_score=True, scoring='accuracy',\n",
       "             verbose=0)"
      ]
     },
     "execution_count": 13,
     "metadata": {},
     "output_type": "execute_result"
    }
   ],
   "source": [
    "# GridSearchCV to find optimal n_estimators\n",
    "from sklearn.model_selection import KFold\n",
    "from sklearn.model_selection import GridSearchCV\n",
    "\n",
    "\n",
    "# number of folds for k-fold CV\n",
    "n_folds = 5\n",
    "\n",
    "# parameters for the model \n",
    "parameters = {'max_depth': range(2, 20, 5)}\n",
    "\n",
    "rf = RandomForestClassifier()\n",
    "\n",
    "rf = GridSearchCV(rf, parameters, \n",
    "                    cv=n_folds, \n",
    "                    scoring=\"accuracy\",\n",
    "                    return_train_score=True)\n",
    "rf.fit(X_train, y_train)"
   ]
  },
  {
   "cell_type": "code",
   "execution_count": 14,
   "metadata": {},
   "outputs": [
    {
     "data": {
      "text/html": [
       "<div>\n",
       "<style scoped>\n",
       "    .dataframe tbody tr th:only-of-type {\n",
       "        vertical-align: middle;\n",
       "    }\n",
       "\n",
       "    .dataframe tbody tr th {\n",
       "        vertical-align: top;\n",
       "    }\n",
       "\n",
       "    .dataframe thead th {\n",
       "        text-align: right;\n",
       "    }\n",
       "</style>\n",
       "<table border=\"1\" class=\"dataframe\">\n",
       "  <thead>\n",
       "    <tr style=\"text-align: right;\">\n",
       "      <th></th>\n",
       "      <th>mean_fit_time</th>\n",
       "      <th>std_fit_time</th>\n",
       "      <th>mean_score_time</th>\n",
       "      <th>std_score_time</th>\n",
       "      <th>param_max_depth</th>\n",
       "      <th>params</th>\n",
       "      <th>split0_test_score</th>\n",
       "      <th>split1_test_score</th>\n",
       "      <th>split2_test_score</th>\n",
       "      <th>split3_test_score</th>\n",
       "      <th>...</th>\n",
       "      <th>mean_test_score</th>\n",
       "      <th>std_test_score</th>\n",
       "      <th>rank_test_score</th>\n",
       "      <th>split0_train_score</th>\n",
       "      <th>split1_train_score</th>\n",
       "      <th>split2_train_score</th>\n",
       "      <th>split3_train_score</th>\n",
       "      <th>split4_train_score</th>\n",
       "      <th>mean_train_score</th>\n",
       "      <th>std_train_score</th>\n",
       "    </tr>\n",
       "  </thead>\n",
       "  <tbody>\n",
       "    <tr>\n",
       "      <th>0</th>\n",
       "      <td>1.322707</td>\n",
       "      <td>0.096745</td>\n",
       "      <td>0.067952</td>\n",
       "      <td>0.032726</td>\n",
       "      <td>2</td>\n",
       "      <td>{'max_depth': 2}</td>\n",
       "      <td>0.802857</td>\n",
       "      <td>0.801429</td>\n",
       "      <td>0.801667</td>\n",
       "      <td>0.793095</td>\n",
       "      <td>...</td>\n",
       "      <td>0.800143</td>\n",
       "      <td>0.003559</td>\n",
       "      <td>4</td>\n",
       "      <td>0.799940</td>\n",
       "      <td>0.797560</td>\n",
       "      <td>0.799762</td>\n",
       "      <td>0.799583</td>\n",
       "      <td>0.802024</td>\n",
       "      <td>0.799774</td>\n",
       "      <td>0.001416</td>\n",
       "    </tr>\n",
       "    <tr>\n",
       "      <th>1</th>\n",
       "      <td>3.145555</td>\n",
       "      <td>0.049830</td>\n",
       "      <td>0.078121</td>\n",
       "      <td>0.000006</td>\n",
       "      <td>7</td>\n",
       "      <td>{'max_depth': 7}</td>\n",
       "      <td>0.815238</td>\n",
       "      <td>0.820714</td>\n",
       "      <td>0.818810</td>\n",
       "      <td>0.816905</td>\n",
       "      <td>...</td>\n",
       "      <td>0.817952</td>\n",
       "      <td>0.001836</td>\n",
       "      <td>1</td>\n",
       "      <td>0.831786</td>\n",
       "      <td>0.831190</td>\n",
       "      <td>0.832262</td>\n",
       "      <td>0.832917</td>\n",
       "      <td>0.832976</td>\n",
       "      <td>0.832226</td>\n",
       "      <td>0.000679</td>\n",
       "    </tr>\n",
       "    <tr>\n",
       "      <th>2</th>\n",
       "      <td>4.785065</td>\n",
       "      <td>0.176410</td>\n",
       "      <td>0.106241</td>\n",
       "      <td>0.011686</td>\n",
       "      <td>12</td>\n",
       "      <td>{'max_depth': 12}</td>\n",
       "      <td>0.815000</td>\n",
       "      <td>0.818810</td>\n",
       "      <td>0.821667</td>\n",
       "      <td>0.815000</td>\n",
       "      <td>...</td>\n",
       "      <td>0.817476</td>\n",
       "      <td>0.002527</td>\n",
       "      <td>2</td>\n",
       "      <td>0.884167</td>\n",
       "      <td>0.884107</td>\n",
       "      <td>0.883274</td>\n",
       "      <td>0.886429</td>\n",
       "      <td>0.885714</td>\n",
       "      <td>0.884738</td>\n",
       "      <td>0.001156</td>\n",
       "    </tr>\n",
       "    <tr>\n",
       "      <th>3</th>\n",
       "      <td>5.971773</td>\n",
       "      <td>0.103622</td>\n",
       "      <td>0.131248</td>\n",
       "      <td>0.007652</td>\n",
       "      <td>17</td>\n",
       "      <td>{'max_depth': 17}</td>\n",
       "      <td>0.819286</td>\n",
       "      <td>0.818095</td>\n",
       "      <td>0.820238</td>\n",
       "      <td>0.810000</td>\n",
       "      <td>...</td>\n",
       "      <td>0.816667</td>\n",
       "      <td>0.003661</td>\n",
       "      <td>3</td>\n",
       "      <td>0.927143</td>\n",
       "      <td>0.929107</td>\n",
       "      <td>0.931131</td>\n",
       "      <td>0.932738</td>\n",
       "      <td>0.927738</td>\n",
       "      <td>0.929571</td>\n",
       "      <td>0.002094</td>\n",
       "    </tr>\n",
       "  </tbody>\n",
       "</table>\n",
       "<p>4 rows × 21 columns</p>\n",
       "</div>"
      ],
      "text/plain": [
       "   mean_fit_time  std_fit_time  mean_score_time  std_score_time  \\\n",
       "0       1.322707      0.096745         0.067952        0.032726   \n",
       "1       3.145555      0.049830         0.078121        0.000006   \n",
       "2       4.785065      0.176410         0.106241        0.011686   \n",
       "3       5.971773      0.103622         0.131248        0.007652   \n",
       "\n",
       "  param_max_depth             params  split0_test_score  split1_test_score  \\\n",
       "0               2   {'max_depth': 2}           0.802857           0.801429   \n",
       "1               7   {'max_depth': 7}           0.815238           0.820714   \n",
       "2              12  {'max_depth': 12}           0.815000           0.818810   \n",
       "3              17  {'max_depth': 17}           0.819286           0.818095   \n",
       "\n",
       "   split2_test_score  split3_test_score  ...  mean_test_score  std_test_score  \\\n",
       "0           0.801667           0.793095  ...         0.800143        0.003559   \n",
       "1           0.818810           0.816905  ...         0.817952        0.001836   \n",
       "2           0.821667           0.815000  ...         0.817476        0.002527   \n",
       "3           0.820238           0.810000  ...         0.816667        0.003661   \n",
       "\n",
       "   rank_test_score  split0_train_score  split1_train_score  \\\n",
       "0                4            0.799940            0.797560   \n",
       "1                1            0.831786            0.831190   \n",
       "2                2            0.884167            0.884107   \n",
       "3                3            0.927143            0.929107   \n",
       "\n",
       "   split2_train_score  split3_train_score  split4_train_score  \\\n",
       "0            0.799762            0.799583            0.802024   \n",
       "1            0.832262            0.832917            0.832976   \n",
       "2            0.883274            0.886429            0.885714   \n",
       "3            0.931131            0.932738            0.927738   \n",
       "\n",
       "   mean_train_score  std_train_score  \n",
       "0          0.799774         0.001416  \n",
       "1          0.832226         0.000679  \n",
       "2          0.884738         0.001156  \n",
       "3          0.929571         0.002094  \n",
       "\n",
       "[4 rows x 21 columns]"
      ]
     },
     "execution_count": 14,
     "metadata": {},
     "output_type": "execute_result"
    }
   ],
   "source": [
    "# scores of GridSearch CV\n",
    "scores = rf.cv_results_\n",
    "pd.DataFrame(scores).head()"
   ]
  },
  {
   "cell_type": "code",
   "execution_count": 15,
   "metadata": {},
   "outputs": [
    {
     "data": {
      "image/png": "[encoded data removed]",
      "text/plain": [
       "<Figure size 432x288 with 1 Axes>"
      ]
     },
     "metadata": {
      "needs_background": "light"
     },
     "output_type": "display_data"
    }
   ],
   "source": [
    "# plotting accuracies with max_depth\n",
    "plt.figure()\n",
    "plt.plot(scores[\"param_max_depth\"], \n",
    "         scores[\"mean_train_score\"], \n",
    "         label=\"training accuracy\")\n",
    "plt.plot(scores[\"param_max_depth\"], \n",
    "         scores[\"mean_test_score\"], \n",
    "         label=\"test accuracy\")\n",
    "plt.xlabel(\"max_depth\")\n",
    "plt.ylabel(\"Accuracy\")\n",
    "plt.legend()\n",
    "plt.show()\n"
   ]
  },
  {
   "cell_type": "markdown",
   "metadata": {},
   "source": [
    "When the max_depth value is increased both train and test score increase till a point and after that the test score decreases. Hence overfitting occures when we increase max_depth. Controlling the max_depth will help reducing the overfitting in the forest. "
   ]
  },
  {
   "cell_type": "markdown",
   "metadata": {},
   "source": [
    "<hr>"
   ]
  },
  {
   "cell_type": "markdown",
   "metadata": {},
   "source": [
    "### Tuning n_estimators"
   ]
  },
  {
   "cell_type": "code",
   "execution_count": 16,
   "metadata": {
    "scrolled": true
   },
   "outputs": [
    {
     "data": {
      "text/plain": [
       "GridSearchCV(cv=5, error_score=nan,\n",
       "             estimator=RandomForestClassifier(bootstrap=True, ccp_alpha=0.0,\n",
       "                                              class_weight=None,\n",
       "                                              criterion='gini', max_depth=4,\n",
       "                                              max_features='auto',\n",
       "                                              max_leaf_nodes=None,\n",
       "                                              max_samples=None,\n",
       "                                              min_impurity_decrease=0.0,\n",
       "                                              min_impurity_split=None,\n",
       "                                              min_samples_leaf=1,\n",
       "                                              min_samples_split=2,\n",
       "                                              min_weight_fraction_leaf=0.0,\n",
       "                                              n_estimators=100, n_jobs=None,\n",
       "                                              oob_score=False,\n",
       "                                              random_state=None, verbose=0,\n",
       "                                              warm_start=False),\n",
       "             iid='deprecated', n_jobs=None,\n",
       "             param_grid={'n_estimators': range(100, 1500, 400)},\n",
       "             pre_dispatch='2*n_jobs', refit=True, return_train_score=True,\n",
       "             scoring='accuracy', verbose=0)"
      ]
     },
     "execution_count": 16,
     "metadata": {},
     "output_type": "execute_result"
    }
   ],
   "source": [
    "# GridSearchCV to find optimal n_estimators\n",
    "from sklearn.model_selection import KFold\n",
    "from sklearn.model_selection import GridSearchCV\n",
    "\n",
    "\n",
    "n_folds = 5\n",
    "\n",
    "parameters = {'n_estimators': range(100, 1500, 400)}\n",
    "\n",
    "rf = RandomForestClassifier(max_depth=4) # to avoid overfitting in the forest\n",
    "\n",
    "rf = GridSearchCV(rf, parameters, \n",
    "                    cv=n_folds, \n",
    "                    scoring=\"accuracy\",\n",
    "                    return_train_score=True)\n",
    "rf.fit(X_train, y_train)"
   ]
  },
  {
   "cell_type": "code",
   "execution_count": 17,
   "metadata": {},
   "outputs": [
    {
     "data": {
      "text/html": [
       "<div>\n",
       "<style scoped>\n",
       "    .dataframe tbody tr th:only-of-type {\n",
       "        vertical-align: middle;\n",
       "    }\n",
       "\n",
       "    .dataframe tbody tr th {\n",
       "        vertical-align: top;\n",
       "    }\n",
       "\n",
       "    .dataframe thead th {\n",
       "        text-align: right;\n",
       "    }\n",
       "</style>\n",
       "<table border=\"1\" class=\"dataframe\">\n",
       "  <thead>\n",
       "    <tr style=\"text-align: right;\">\n",
       "      <th></th>\n",
       "      <th>mean_fit_time</th>\n",
       "      <th>std_fit_time</th>\n",
       "      <th>mean_score_time</th>\n",
       "      <th>std_score_time</th>\n",
       "      <th>param_n_estimators</th>\n",
       "      <th>params</th>\n",
       "      <th>split0_test_score</th>\n",
       "      <th>split1_test_score</th>\n",
       "      <th>split2_test_score</th>\n",
       "      <th>split3_test_score</th>\n",
       "      <th>...</th>\n",
       "      <th>mean_test_score</th>\n",
       "      <th>std_test_score</th>\n",
       "      <th>rank_test_score</th>\n",
       "      <th>split0_train_score</th>\n",
       "      <th>split1_train_score</th>\n",
       "      <th>split2_train_score</th>\n",
       "      <th>split3_train_score</th>\n",
       "      <th>split4_train_score</th>\n",
       "      <th>mean_train_score</th>\n",
       "      <th>std_train_score</th>\n",
       "    </tr>\n",
       "  </thead>\n",
       "  <tbody>\n",
       "    <tr>\n",
       "      <th>0</th>\n",
       "      <td>2.244566</td>\n",
       "      <td>0.167220</td>\n",
       "      <td>0.061488</td>\n",
       "      <td>0.006536</td>\n",
       "      <td>100</td>\n",
       "      <td>{'n_estimators': 100}</td>\n",
       "      <td>0.811190</td>\n",
       "      <td>0.813333</td>\n",
       "      <td>0.808333</td>\n",
       "      <td>0.805238</td>\n",
       "      <td>...</td>\n",
       "      <td>0.808762</td>\n",
       "      <td>0.003120</td>\n",
       "      <td>4</td>\n",
       "      <td>0.810298</td>\n",
       "      <td>0.810714</td>\n",
       "      <td>0.809107</td>\n",
       "      <td>0.813155</td>\n",
       "      <td>0.811310</td>\n",
       "      <td>0.810917</td>\n",
       "      <td>0.001331</td>\n",
       "    </tr>\n",
       "    <tr>\n",
       "      <th>1</th>\n",
       "      <td>10.983400</td>\n",
       "      <td>0.728320</td>\n",
       "      <td>0.329978</td>\n",
       "      <td>0.047862</td>\n",
       "      <td>500</td>\n",
       "      <td>{'n_estimators': 500}</td>\n",
       "      <td>0.811667</td>\n",
       "      <td>0.815476</td>\n",
       "      <td>0.810476</td>\n",
       "      <td>0.805714</td>\n",
       "      <td>...</td>\n",
       "      <td>0.810048</td>\n",
       "      <td>0.003491</td>\n",
       "      <td>1</td>\n",
       "      <td>0.811131</td>\n",
       "      <td>0.810714</td>\n",
       "      <td>0.811488</td>\n",
       "      <td>0.813155</td>\n",
       "      <td>0.813155</td>\n",
       "      <td>0.811929</td>\n",
       "      <td>0.001031</td>\n",
       "    </tr>\n",
       "    <tr>\n",
       "      <th>2</th>\n",
       "      <td>20.004879</td>\n",
       "      <td>1.670566</td>\n",
       "      <td>0.532905</td>\n",
       "      <td>0.014847</td>\n",
       "      <td>900</td>\n",
       "      <td>{'n_estimators': 900}</td>\n",
       "      <td>0.811429</td>\n",
       "      <td>0.813810</td>\n",
       "      <td>0.811429</td>\n",
       "      <td>0.805714</td>\n",
       "      <td>...</td>\n",
       "      <td>0.810000</td>\n",
       "      <td>0.002920</td>\n",
       "      <td>2</td>\n",
       "      <td>0.811250</td>\n",
       "      <td>0.810179</td>\n",
       "      <td>0.811548</td>\n",
       "      <td>0.812976</td>\n",
       "      <td>0.812917</td>\n",
       "      <td>0.811774</td>\n",
       "      <td>0.001060</td>\n",
       "    </tr>\n",
       "    <tr>\n",
       "      <th>3</th>\n",
       "      <td>26.460982</td>\n",
       "      <td>0.240684</td>\n",
       "      <td>0.761612</td>\n",
       "      <td>0.034537</td>\n",
       "      <td>1300</td>\n",
       "      <td>{'n_estimators': 1300}</td>\n",
       "      <td>0.811429</td>\n",
       "      <td>0.814048</td>\n",
       "      <td>0.810952</td>\n",
       "      <td>0.805476</td>\n",
       "      <td>...</td>\n",
       "      <td>0.809762</td>\n",
       "      <td>0.003133</td>\n",
       "      <td>3</td>\n",
       "      <td>0.811012</td>\n",
       "      <td>0.810179</td>\n",
       "      <td>0.811369</td>\n",
       "      <td>0.812679</td>\n",
       "      <td>0.812679</td>\n",
       "      <td>0.811583</td>\n",
       "      <td>0.000974</td>\n",
       "    </tr>\n",
       "  </tbody>\n",
       "</table>\n",
       "<p>4 rows × 21 columns</p>\n",
       "</div>"
      ],
      "text/plain": [
       "   mean_fit_time  std_fit_time  mean_score_time  std_score_time  \\\n",
       "0       2.244566      0.167220         0.061488        0.006536   \n",
       "1      10.983400      0.728320         0.329978        0.047862   \n",
       "2      20.004879      1.670566         0.532905        0.014847   \n",
       "3      26.460982      0.240684         0.761612        0.034537   \n",
       "\n",
       "  param_n_estimators                  params  split0_test_score  \\\n",
       "0                100   {'n_estimators': 100}           0.811190   \n",
       "1                500   {'n_estimators': 500}           0.811667   \n",
       "2                900   {'n_estimators': 900}           0.811429   \n",
       "3               1300  {'n_estimators': 1300}           0.811429   \n",
       "\n",
       "   split1_test_score  split2_test_score  split3_test_score  ...  \\\n",
       "0           0.813333           0.808333           0.805238  ...   \n",
       "1           0.815476           0.810476           0.805714  ...   \n",
       "2           0.813810           0.811429           0.805714  ...   \n",
       "3           0.814048           0.810952           0.805476  ...   \n",
       "\n",
       "   mean_test_score  std_test_score  rank_test_score  split0_train_score  \\\n",
       "0         0.808762        0.003120                4            0.810298   \n",
       "1         0.810048        0.003491                1            0.811131   \n",
       "2         0.810000        0.002920                2            0.811250   \n",
       "3         0.809762        0.003133                3            0.811012   \n",
       "\n",
       "   split1_train_score  split2_train_score  split3_train_score  \\\n",
       "0            0.810714            0.809107            0.813155   \n",
       "1            0.810714            0.811488            0.813155   \n",
       "2            0.810179            0.811548            0.812976   \n",
       "3            0.810179            0.811369            0.812679   \n",
       "\n",
       "   split4_train_score  mean_train_score  std_train_score  \n",
       "0            0.811310          0.810917         0.001331  \n",
       "1            0.813155          0.811929         0.001031  \n",
       "2            0.812917          0.811774         0.001060  \n",
       "3            0.812679          0.811583         0.000974  \n",
       "\n",
       "[4 rows x 21 columns]"
      ]
     },
     "execution_count": 17,
     "metadata": {},
     "output_type": "execute_result"
    }
   ],
   "source": [
    "scores = rf.cv_results_\n",
    "pd.DataFrame(scores).head()"
   ]
  },
  {
   "cell_type": "code",
   "execution_count": 18,
   "metadata": {},
   "outputs": [
    {
     "data": {
      "image/png": "[encoded data removed]",
      "text/plain": [
       "<Figure size 432x288 with 1 Axes>"
      ]
     },
     "metadata": {
      "needs_background": "light"
     },
     "output_type": "display_data"
    }
   ],
   "source": [
    "# plotting accuracies with n_estimators\n",
    "plt.figure()\n",
    "plt.plot(scores[\"param_n_estimators\"], \n",
    "         scores[\"mean_train_score\"], \n",
    "         label=\"training accuracy\")\n",
    "plt.plot(scores[\"param_n_estimators\"], \n",
    "         scores[\"mean_test_score\"], \n",
    "         label=\"test accuracy\")\n",
    "plt.xlabel(\"n_estimators\")\n",
    "plt.ylabel(\"Accuracy\")\n",
    "plt.legend()\n",
    "plt.show()\n"
   ]
  },
  {
   "cell_type": "markdown",
   "metadata": {},
   "source": [
    "<hr>"
   ]
  },
  {
   "cell_type": "markdown",
   "metadata": {},
   "source": [
    "### Tuning max_features"
   ]
  },
  {
   "cell_type": "code",
   "execution_count": 22,
   "metadata": {},
   "outputs": [
    {
     "data": {
      "text/plain": [
       "GridSearchCV(cv=5, error_score=nan,\n",
       "             estimator=RandomForestClassifier(bootstrap=True, ccp_alpha=0.0,\n",
       "                                              class_weight=None,\n",
       "                                              criterion='gini', max_depth=4,\n",
       "                                              max_features='auto',\n",
       "                                              max_leaf_nodes=None,\n",
       "                                              max_samples=None,\n",
       "                                              min_impurity_decrease=0.0,\n",
       "                                              min_impurity_split=None,\n",
       "                                              min_samples_leaf=1,\n",
       "                                              min_samples_split=2,\n",
       "                                              min_weight_fraction_leaf=0.0,\n",
       "                                              n_estimators=100, n_jobs=None,\n",
       "                                              oob_score=False,\n",
       "                                              random_state=None, verbose=0,\n",
       "                                              warm_start=False),\n",
       "             iid='deprecated', n_jobs=None,\n",
       "             param_grid={'max_features': [4, 8, 14, 20, 24]},\n",
       "             pre_dispatch='2*n_jobs', refit=True, return_train_score=True,\n",
       "             scoring='accuracy', verbose=0)"
      ]
     },
     "execution_count": 22,
     "metadata": {},
     "output_type": "execute_result"
    }
   ],
   "source": [
    "# GridSearchCV to find optimal max_features\n",
    "from sklearn.model_selection import KFold\n",
    "from sklearn.model_selection import GridSearchCV\n",
    "\n",
    "\n",
    "# specify number of folds for k-fold CV\n",
    "n_folds = 5\n",
    "\n",
    "# parameters to build the model on\n",
    "parameters = {'max_features': [4, 8, 14, 20, 24]}\n",
    "\n",
    "# instantiate the model\n",
    "rf = RandomForestClassifier(max_depth=4) \n",
    "\n",
    "\n",
    "# fit tree on training data\n",
    "rf = GridSearchCV(rf, parameters, \n",
    "                    cv=n_folds, \n",
    "                    scoring=\"accuracy\",\n",
    "                    return_train_score=True)\n",
    "rf.fit(X_train, y_train)"
   ]
  },
  {
   "cell_type": "code",
   "execution_count": 23,
   "metadata": {},
   "outputs": [
    {
     "data": {
      "text/html": [
       "<div>\n",
       "<style scoped>\n",
       "    .dataframe tbody tr th:only-of-type {\n",
       "        vertical-align: middle;\n",
       "    }\n",
       "\n",
       "    .dataframe tbody tr th {\n",
       "        vertical-align: top;\n",
       "    }\n",
       "\n",
       "    .dataframe thead th {\n",
       "        text-align: right;\n",
       "    }\n",
       "</style>\n",
       "<table border=\"1\" class=\"dataframe\">\n",
       "  <thead>\n",
       "    <tr style=\"text-align: right;\">\n",
       "      <th></th>\n",
       "      <th>mean_fit_time</th>\n",
       "      <th>std_fit_time</th>\n",
       "      <th>mean_score_time</th>\n",
       "      <th>std_score_time</th>\n",
       "      <th>param_max_features</th>\n",
       "      <th>params</th>\n",
       "      <th>split0_test_score</th>\n",
       "      <th>split1_test_score</th>\n",
       "      <th>split2_test_score</th>\n",
       "      <th>split3_test_score</th>\n",
       "      <th>...</th>\n",
       "      <th>mean_test_score</th>\n",
       "      <th>std_test_score</th>\n",
       "      <th>rank_test_score</th>\n",
       "      <th>split0_train_score</th>\n",
       "      <th>split1_train_score</th>\n",
       "      <th>split2_train_score</th>\n",
       "      <th>split3_train_score</th>\n",
       "      <th>split4_train_score</th>\n",
       "      <th>mean_train_score</th>\n",
       "      <th>std_train_score</th>\n",
       "    </tr>\n",
       "  </thead>\n",
       "  <tbody>\n",
       "    <tr>\n",
       "      <th>0</th>\n",
       "      <td>2.029573</td>\n",
       "      <td>0.049046</td>\n",
       "      <td>0.062573</td>\n",
       "      <td>0.000160</td>\n",
       "      <td>4</td>\n",
       "      <td>{'max_features': 4}</td>\n",
       "      <td>0.810238</td>\n",
       "      <td>0.812381</td>\n",
       "      <td>0.812619</td>\n",
       "      <td>0.804524</td>\n",
       "      <td>...</td>\n",
       "      <td>0.809333</td>\n",
       "      <td>0.003160</td>\n",
       "      <td>5</td>\n",
       "      <td>0.810714</td>\n",
       "      <td>0.810000</td>\n",
       "      <td>0.812083</td>\n",
       "      <td>0.812321</td>\n",
       "      <td>0.813155</td>\n",
       "      <td>0.811655</td>\n",
       "      <td>0.001140</td>\n",
       "    </tr>\n",
       "    <tr>\n",
       "      <th>1</th>\n",
       "      <td>3.481143</td>\n",
       "      <td>0.081863</td>\n",
       "      <td>0.064709</td>\n",
       "      <td>0.004427</td>\n",
       "      <td>8</td>\n",
       "      <td>{'max_features': 8}</td>\n",
       "      <td>0.816667</td>\n",
       "      <td>0.822619</td>\n",
       "      <td>0.820952</td>\n",
       "      <td>0.816429</td>\n",
       "      <td>...</td>\n",
       "      <td>0.819048</td>\n",
       "      <td>0.002414</td>\n",
       "      <td>1</td>\n",
       "      <td>0.821429</td>\n",
       "      <td>0.820893</td>\n",
       "      <td>0.821726</td>\n",
       "      <td>0.821607</td>\n",
       "      <td>0.821429</td>\n",
       "      <td>0.821417</td>\n",
       "      <td>0.000285</td>\n",
       "    </tr>\n",
       "    <tr>\n",
       "      <th>2</th>\n",
       "      <td>5.808707</td>\n",
       "      <td>0.262955</td>\n",
       "      <td>0.062497</td>\n",
       "      <td>0.009872</td>\n",
       "      <td>14</td>\n",
       "      <td>{'max_features': 14}</td>\n",
       "      <td>0.816905</td>\n",
       "      <td>0.821190</td>\n",
       "      <td>0.818333</td>\n",
       "      <td>0.817381</td>\n",
       "      <td>...</td>\n",
       "      <td>0.818333</td>\n",
       "      <td>0.001506</td>\n",
       "      <td>3</td>\n",
       "      <td>0.821667</td>\n",
       "      <td>0.821071</td>\n",
       "      <td>0.821905</td>\n",
       "      <td>0.822083</td>\n",
       "      <td>0.821964</td>\n",
       "      <td>0.821738</td>\n",
       "      <td>0.000360</td>\n",
       "    </tr>\n",
       "    <tr>\n",
       "      <th>3</th>\n",
       "      <td>7.810171</td>\n",
       "      <td>0.098824</td>\n",
       "      <td>0.057487</td>\n",
       "      <td>0.008958</td>\n",
       "      <td>20</td>\n",
       "      <td>{'max_features': 20}</td>\n",
       "      <td>0.818333</td>\n",
       "      <td>0.820952</td>\n",
       "      <td>0.819286</td>\n",
       "      <td>0.815476</td>\n",
       "      <td>...</td>\n",
       "      <td>0.818619</td>\n",
       "      <td>0.001791</td>\n",
       "      <td>2</td>\n",
       "      <td>0.822143</td>\n",
       "      <td>0.820952</td>\n",
       "      <td>0.821667</td>\n",
       "      <td>0.823333</td>\n",
       "      <td>0.822024</td>\n",
       "      <td>0.822024</td>\n",
       "      <td>0.000775</td>\n",
       "    </tr>\n",
       "    <tr>\n",
       "      <th>4</th>\n",
       "      <td>9.814038</td>\n",
       "      <td>0.670950</td>\n",
       "      <td>0.067293</td>\n",
       "      <td>0.008385</td>\n",
       "      <td>24</td>\n",
       "      <td>{'max_features': 24}</td>\n",
       "      <td>0.817857</td>\n",
       "      <td>0.821190</td>\n",
       "      <td>0.818095</td>\n",
       "      <td>0.815952</td>\n",
       "      <td>...</td>\n",
       "      <td>0.818190</td>\n",
       "      <td>0.001688</td>\n",
       "      <td>4</td>\n",
       "      <td>0.822917</td>\n",
       "      <td>0.821488</td>\n",
       "      <td>0.822262</td>\n",
       "      <td>0.823155</td>\n",
       "      <td>0.822679</td>\n",
       "      <td>0.822500</td>\n",
       "      <td>0.000586</td>\n",
       "    </tr>\n",
       "  </tbody>\n",
       "</table>\n",
       "<p>5 rows × 21 columns</p>\n",
       "</div>"
      ],
      "text/plain": [
       "   mean_fit_time  std_fit_time  mean_score_time  std_score_time  \\\n",
       "0       2.029573      0.049046         0.062573        0.000160   \n",
       "1       3.481143      0.081863         0.064709        0.004427   \n",
       "2       5.808707      0.262955         0.062497        0.009872   \n",
       "3       7.810171      0.098824         0.057487        0.008958   \n",
       "4       9.814038      0.670950         0.067293        0.008385   \n",
       "\n",
       "  param_max_features                params  split0_test_score  \\\n",
       "0                  4   {'max_features': 4}           0.810238   \n",
       "1                  8   {'max_features': 8}           0.816667   \n",
       "2                 14  {'max_features': 14}           0.816905   \n",
       "3                 20  {'max_features': 20}           0.818333   \n",
       "4                 24  {'max_features': 24}           0.817857   \n",
       "\n",
       "   split1_test_score  split2_test_score  split3_test_score  ...  \\\n",
       "0           0.812381           0.812619           0.804524  ...   \n",
       "1           0.822619           0.820952           0.816429  ...   \n",
       "2           0.821190           0.818333           0.817381  ...   \n",
       "3           0.820952           0.819286           0.815476  ...   \n",
       "4           0.821190           0.818095           0.815952  ...   \n",
       "\n",
       "   mean_test_score  std_test_score  rank_test_score  split0_train_score  \\\n",
       "0         0.809333        0.003160                5            0.810714   \n",
       "1         0.819048        0.002414                1            0.821429   \n",
       "2         0.818333        0.001506                3            0.821667   \n",
       "3         0.818619        0.001791                2            0.822143   \n",
       "4         0.818190        0.001688                4            0.822917   \n",
       "\n",
       "   split1_train_score  split2_train_score  split3_train_score  \\\n",
       "0            0.810000            0.812083            0.812321   \n",
       "1            0.820893            0.821726            0.821607   \n",
       "2            0.821071            0.821905            0.822083   \n",
       "3            0.820952            0.821667            0.823333   \n",
       "4            0.821488            0.822262            0.823155   \n",
       "\n",
       "   split4_train_score  mean_train_score  std_train_score  \n",
       "0            0.813155          0.811655         0.001140  \n",
       "1            0.821429          0.821417         0.000285  \n",
       "2            0.821964          0.821738         0.000360  \n",
       "3            0.822024          0.822024         0.000775  \n",
       "4            0.822679          0.822500         0.000586  \n",
       "\n",
       "[5 rows x 21 columns]"
      ]
     },
     "execution_count": 23,
     "metadata": {},
     "output_type": "execute_result"
    }
   ],
   "source": [
    "# scores of GridSearch CV\n",
    "scores = rf.cv_results_\n",
    "pd.DataFrame(scores).head()"
   ]
  },
  {
   "cell_type": "code",
   "execution_count": 24,
   "metadata": {},
   "outputs": [
    {
     "data": {
      "image/png": "[encoded data removed]",
      "text/plain": [
       "<Figure size 432x288 with 1 Axes>"
      ]
     },
     "metadata": {
      "needs_background": "light"
     },
     "output_type": "display_data"
    }
   ],
   "source": [
    "# plotting accuracies with max_features\n",
    "plt.figure()\n",
    "plt.plot(scores[\"param_max_features\"], \n",
    "         scores[\"mean_train_score\"], \n",
    "         label=\"training accuracy\")\n",
    "plt.plot(scores[\"param_max_features\"], \n",
    "         scores[\"mean_test_score\"], \n",
    "         label=\"test accuracy\")\n",
    "plt.xlabel(\"max_features\")\n",
    "plt.ylabel(\"Accuracy\")\n",
    "plt.legend()\n",
    "plt.show()\n"
   ]
  },
  {
   "cell_type": "markdown",
   "metadata": {},
   "source": [
    "The training and test scores both seem to increase as increasing max_features, and the model doesn't seem to overfit more with increasing max_features."
   ]
  },
  {
   "cell_type": "markdown",
   "metadata": {},
   "source": [
    "### Tuning min_samples_leaf"
   ]
  },
  {
   "cell_type": "code",
   "execution_count": 25,
   "metadata": {},
   "outputs": [
    {
     "data": {
      "text/plain": [
       "GridSearchCV(cv=5, error_score=nan,\n",
       "             estimator=RandomForestClassifier(bootstrap=True, ccp_alpha=0.0,\n",
       "                                              class_weight=None,\n",
       "                                              criterion='gini', max_depth=None,\n",
       "                                              max_features='auto',\n",
       "                                              max_leaf_nodes=None,\n",
       "                                              max_samples=None,\n",
       "                                              min_impurity_decrease=0.0,\n",
       "                                              min_impurity_split=None,\n",
       "                                              min_samples_leaf=1,\n",
       "                                              min_samples_split=2,\n",
       "                                              min_weight_fraction_leaf=0.0,\n",
       "                                              n_estimators=100, n_jobs=None,\n",
       "                                              oob_score=False,\n",
       "                                              random_state=None, verbose=0,\n",
       "                                              warm_start=False),\n",
       "             iid='deprecated', n_jobs=None,\n",
       "             param_grid={'min_samples_leaf': range(100, 400, 50)},\n",
       "             pre_dispatch='2*n_jobs', refit=True, return_train_score=True,\n",
       "             scoring='accuracy', verbose=0)"
      ]
     },
     "execution_count": 25,
     "metadata": {},
     "output_type": "execute_result"
    }
   ],
   "source": [
    "# GridSearchCV to find optimal min_samples_leaf\n",
    "from sklearn.model_selection import KFold\n",
    "from sklearn.model_selection import GridSearchCV\n",
    "\n",
    "n_folds = 5\n",
    "\n",
    "parameters = {'min_samples_leaf': range(100, 400, 50)}\n",
    "\n",
    "rf = RandomForestClassifier()\n",
    "\n",
    "rf = GridSearchCV(rf, parameters, \n",
    "                    cv=n_folds, \n",
    "                    scoring=\"accuracy\",\n",
    "                    return_train_score=True\n",
    "                 )\n",
    "rf.fit(X_train, y_train)"
   ]
  },
  {
   "cell_type": "code",
   "execution_count": 26,
   "metadata": {},
   "outputs": [
    {
     "data": {
      "text/html": [
       "<div>\n",
       "<style scoped>\n",
       "    .dataframe tbody tr th:only-of-type {\n",
       "        vertical-align: middle;\n",
       "    }\n",
       "\n",
       "    .dataframe tbody tr th {\n",
       "        vertical-align: top;\n",
       "    }\n",
       "\n",
       "    .dataframe thead th {\n",
       "        text-align: right;\n",
       "    }\n",
       "</style>\n",
       "<table border=\"1\" class=\"dataframe\">\n",
       "  <thead>\n",
       "    <tr style=\"text-align: right;\">\n",
       "      <th></th>\n",
       "      <th>mean_fit_time</th>\n",
       "      <th>std_fit_time</th>\n",
       "      <th>mean_score_time</th>\n",
       "      <th>std_score_time</th>\n",
       "      <th>param_min_samples_leaf</th>\n",
       "      <th>params</th>\n",
       "      <th>split0_test_score</th>\n",
       "      <th>split1_test_score</th>\n",
       "      <th>split2_test_score</th>\n",
       "      <th>split3_test_score</th>\n",
       "      <th>...</th>\n",
       "      <th>mean_test_score</th>\n",
       "      <th>std_test_score</th>\n",
       "      <th>rank_test_score</th>\n",
       "      <th>split0_train_score</th>\n",
       "      <th>split1_train_score</th>\n",
       "      <th>split2_train_score</th>\n",
       "      <th>split3_train_score</th>\n",
       "      <th>split4_train_score</th>\n",
       "      <th>mean_train_score</th>\n",
       "      <th>std_train_score</th>\n",
       "    </tr>\n",
       "  </thead>\n",
       "  <tbody>\n",
       "    <tr>\n",
       "      <th>0</th>\n",
       "      <td>3.776843</td>\n",
       "      <td>0.080686</td>\n",
       "      <td>0.097684</td>\n",
       "      <td>0.004707</td>\n",
       "      <td>100</td>\n",
       "      <td>{'min_samples_leaf': 100}</td>\n",
       "      <td>0.812381</td>\n",
       "      <td>0.819762</td>\n",
       "      <td>0.812381</td>\n",
       "      <td>0.812857</td>\n",
       "      <td>...</td>\n",
       "      <td>0.813190</td>\n",
       "      <td>0.003632</td>\n",
       "      <td>1</td>\n",
       "      <td>0.817202</td>\n",
       "      <td>0.816310</td>\n",
       "      <td>0.813571</td>\n",
       "      <td>0.819702</td>\n",
       "      <td>0.814821</td>\n",
       "      <td>0.816321</td>\n",
       "      <td>0.002099</td>\n",
       "    </tr>\n",
       "    <tr>\n",
       "      <th>1</th>\n",
       "      <td>3.515044</td>\n",
       "      <td>0.092177</td>\n",
       "      <td>0.093509</td>\n",
       "      <td>0.011790</td>\n",
       "      <td>150</td>\n",
       "      <td>{'min_samples_leaf': 150}</td>\n",
       "      <td>0.812857</td>\n",
       "      <td>0.811190</td>\n",
       "      <td>0.810952</td>\n",
       "      <td>0.805476</td>\n",
       "      <td>...</td>\n",
       "      <td>0.809571</td>\n",
       "      <td>0.002716</td>\n",
       "      <td>3</td>\n",
       "      <td>0.813393</td>\n",
       "      <td>0.809524</td>\n",
       "      <td>0.810595</td>\n",
       "      <td>0.812619</td>\n",
       "      <td>0.810774</td>\n",
       "      <td>0.811381</td>\n",
       "      <td>0.001415</td>\n",
       "    </tr>\n",
       "    <tr>\n",
       "      <th>2</th>\n",
       "      <td>3.361477</td>\n",
       "      <td>0.083407</td>\n",
       "      <td>0.083662</td>\n",
       "      <td>0.006880</td>\n",
       "      <td>200</td>\n",
       "      <td>{'min_samples_leaf': 200}</td>\n",
       "      <td>0.812381</td>\n",
       "      <td>0.815000</td>\n",
       "      <td>0.810714</td>\n",
       "      <td>0.803095</td>\n",
       "      <td>...</td>\n",
       "      <td>0.810000</td>\n",
       "      <td>0.004007</td>\n",
       "      <td>2</td>\n",
       "      <td>0.809286</td>\n",
       "      <td>0.813095</td>\n",
       "      <td>0.810714</td>\n",
       "      <td>0.809702</td>\n",
       "      <td>0.811667</td>\n",
       "      <td>0.810893</td>\n",
       "      <td>0.001377</td>\n",
       "    </tr>\n",
       "    <tr>\n",
       "      <th>3</th>\n",
       "      <td>2.941906</td>\n",
       "      <td>0.077234</td>\n",
       "      <td>0.081667</td>\n",
       "      <td>0.004855</td>\n",
       "      <td>250</td>\n",
       "      <td>{'min_samples_leaf': 250}</td>\n",
       "      <td>0.810952</td>\n",
       "      <td>0.810476</td>\n",
       "      <td>0.808571</td>\n",
       "      <td>0.805238</td>\n",
       "      <td>...</td>\n",
       "      <td>0.808476</td>\n",
       "      <td>0.002117</td>\n",
       "      <td>4</td>\n",
       "      <td>0.809881</td>\n",
       "      <td>0.807619</td>\n",
       "      <td>0.809583</td>\n",
       "      <td>0.811667</td>\n",
       "      <td>0.809762</td>\n",
       "      <td>0.809702</td>\n",
       "      <td>0.001284</td>\n",
       "    </tr>\n",
       "    <tr>\n",
       "      <th>4</th>\n",
       "      <td>2.770444</td>\n",
       "      <td>0.048150</td>\n",
       "      <td>0.071867</td>\n",
       "      <td>0.007652</td>\n",
       "      <td>300</td>\n",
       "      <td>{'min_samples_leaf': 300}</td>\n",
       "      <td>0.808810</td>\n",
       "      <td>0.809048</td>\n",
       "      <td>0.806190</td>\n",
       "      <td>0.805238</td>\n",
       "      <td>...</td>\n",
       "      <td>0.806810</td>\n",
       "      <td>0.001792</td>\n",
       "      <td>5</td>\n",
       "      <td>0.806607</td>\n",
       "      <td>0.806905</td>\n",
       "      <td>0.807619</td>\n",
       "      <td>0.810833</td>\n",
       "      <td>0.807798</td>\n",
       "      <td>0.807952</td>\n",
       "      <td>0.001506</td>\n",
       "    </tr>\n",
       "  </tbody>\n",
       "</table>\n",
       "<p>5 rows × 21 columns</p>\n",
       "</div>"
      ],
      "text/plain": [
       "   mean_fit_time  std_fit_time  mean_score_time  std_score_time  \\\n",
       "0       3.776843      0.080686         0.097684        0.004707   \n",
       "1       3.515044      0.092177         0.093509        0.011790   \n",
       "2       3.361477      0.083407         0.083662        0.006880   \n",
       "3       2.941906      0.077234         0.081667        0.004855   \n",
       "4       2.770444      0.048150         0.071867        0.007652   \n",
       "\n",
       "  param_min_samples_leaf                     params  split0_test_score  \\\n",
       "0                    100  {'min_samples_leaf': 100}           0.812381   \n",
       "1                    150  {'min_samples_leaf': 150}           0.812857   \n",
       "2                    200  {'min_samples_leaf': 200}           0.812381   \n",
       "3                    250  {'min_samples_leaf': 250}           0.810952   \n",
       "4                    300  {'min_samples_leaf': 300}           0.808810   \n",
       "\n",
       "   split1_test_score  split2_test_score  split3_test_score  ...  \\\n",
       "0           0.819762           0.812381           0.812857  ...   \n",
       "1           0.811190           0.810952           0.805476  ...   \n",
       "2           0.815000           0.810714           0.803095  ...   \n",
       "3           0.810476           0.808571           0.805238  ...   \n",
       "4           0.809048           0.806190           0.805238  ...   \n",
       "\n",
       "   mean_test_score  std_test_score  rank_test_score  split0_train_score  \\\n",
       "0         0.813190        0.003632                1            0.817202   \n",
       "1         0.809571        0.002716                3            0.813393   \n",
       "2         0.810000        0.004007                2            0.809286   \n",
       "3         0.808476        0.002117                4            0.809881   \n",
       "4         0.806810        0.001792                5            0.806607   \n",
       "\n",
       "   split1_train_score  split2_train_score  split3_train_score  \\\n",
       "0            0.816310            0.813571            0.819702   \n",
       "1            0.809524            0.810595            0.812619   \n",
       "2            0.813095            0.810714            0.809702   \n",
       "3            0.807619            0.809583            0.811667   \n",
       "4            0.806905            0.807619            0.810833   \n",
       "\n",
       "   split4_train_score  mean_train_score  std_train_score  \n",
       "0            0.814821          0.816321         0.002099  \n",
       "1            0.810774          0.811381         0.001415  \n",
       "2            0.811667          0.810893         0.001377  \n",
       "3            0.809762          0.809702         0.001284  \n",
       "4            0.807798          0.807952         0.001506  \n",
       "\n",
       "[5 rows x 21 columns]"
      ]
     },
     "execution_count": 26,
     "metadata": {},
     "output_type": "execute_result"
    }
   ],
   "source": [
    "# scores of GridSearch CV\n",
    "scores = rf.cv_results_\n",
    "pd.DataFrame(scores).head()"
   ]
  },
  {
   "cell_type": "code",
   "execution_count": 27,
   "metadata": {},
   "outputs": [
    {
     "data": {
      "image/png": "[encoded data removed]",
      "text/plain": [
       "<Figure size 432x288 with 1 Axes>"
      ]
     },
     "metadata": {
      "needs_background": "light"
     },
     "output_type": "display_data"
    }
   ],
   "source": [
    "# plotting accuracies with min_samples_leaf\n",
    "plt.figure()\n",
    "plt.plot(scores[\"param_min_samples_leaf\"], \n",
    "         scores[\"mean_train_score\"], \n",
    "         label=\"training accuracy\")\n",
    "plt.plot(scores[\"param_min_samples_leaf\"], \n",
    "         scores[\"mean_test_score\"], \n",
    "         label=\"test accuracy\")\n",
    "plt.xlabel(\"min_samples_leaf\")\n",
    "plt.ylabel(\"Accuracy\")\n",
    "plt.legend()\n",
    "plt.show()"
   ]
  },
  {
   "cell_type": "markdown",
   "metadata": {},
   "source": [
    "The model starts of overfit as you decrease the value of min_samples_leaf. "
   ]
  },
  {
   "cell_type": "markdown",
   "metadata": {},
   "source": [
    "### Tuning min_samples_split"
   ]
  },
  {
   "cell_type": "code",
   "execution_count": 28,
   "metadata": {
    "scrolled": true
   },
   "outputs": [
    {
     "data": {
      "text/plain": [
       "GridSearchCV(cv=5, error_score=nan,\n",
       "             estimator=RandomForestClassifier(bootstrap=True, ccp_alpha=0.0,\n",
       "                                              class_weight=None,\n",
       "                                              criterion='gini', max_depth=None,\n",
       "                                              max_features='auto',\n",
       "                                              max_leaf_nodes=None,\n",
       "                                              max_samples=None,\n",
       "                                              min_impurity_decrease=0.0,\n",
       "                                              min_impurity_split=None,\n",
       "                                              min_samples_leaf=1,\n",
       "                                              min_samples_split=2,\n",
       "                                              min_weight_fraction_leaf=0.0,\n",
       "                                              n_estimators=100, n_jobs=None,\n",
       "                                              oob_score=False,\n",
       "                                              random_state=None, verbose=0,\n",
       "                                              warm_start=False),\n",
       "             iid='deprecated', n_jobs=None,\n",
       "             param_grid={'min_samples_split': range(200, 500, 50)},\n",
       "             pre_dispatch='2*n_jobs', refit=True, return_train_score=True,\n",
       "             scoring='accuracy', verbose=0)"
      ]
     },
     "execution_count": 28,
     "metadata": {},
     "output_type": "execute_result"
    }
   ],
   "source": [
    "# GridSearchCV to find optimal min_samples_split\n",
    "from sklearn.model_selection import KFold\n",
    "from sklearn.model_selection import GridSearchCV\n",
    "\n",
    "n_folds = 5\n",
    "\n",
    "parameters = {'min_samples_split': range(200, 500, 50)}\n",
    "\n",
    "rf = RandomForestClassifier()\n",
    "\n",
    "rf = GridSearchCV(rf, parameters, \n",
    "                    cv=n_folds, \n",
    "                    scoring=\"accuracy\",\n",
    "                    return_train_score=True)\n",
    "rf.fit(X_train, y_train)"
   ]
  },
  {
   "cell_type": "code",
   "execution_count": 29,
   "metadata": {},
   "outputs": [
    {
     "data": {
      "text/html": [
       "<div>\n",
       "<style scoped>\n",
       "    .dataframe tbody tr th:only-of-type {\n",
       "        vertical-align: middle;\n",
       "    }\n",
       "\n",
       "    .dataframe tbody tr th {\n",
       "        vertical-align: top;\n",
       "    }\n",
       "\n",
       "    .dataframe thead th {\n",
       "        text-align: right;\n",
       "    }\n",
       "</style>\n",
       "<table border=\"1\" class=\"dataframe\">\n",
       "  <thead>\n",
       "    <tr style=\"text-align: right;\">\n",
       "      <th></th>\n",
       "      <th>mean_fit_time</th>\n",
       "      <th>std_fit_time</th>\n",
       "      <th>mean_score_time</th>\n",
       "      <th>std_score_time</th>\n",
       "      <th>param_min_samples_split</th>\n",
       "      <th>params</th>\n",
       "      <th>split0_test_score</th>\n",
       "      <th>split1_test_score</th>\n",
       "      <th>split2_test_score</th>\n",
       "      <th>split3_test_score</th>\n",
       "      <th>...</th>\n",
       "      <th>mean_test_score</th>\n",
       "      <th>std_test_score</th>\n",
       "      <th>rank_test_score</th>\n",
       "      <th>split0_train_score</th>\n",
       "      <th>split1_train_score</th>\n",
       "      <th>split2_train_score</th>\n",
       "      <th>split3_train_score</th>\n",
       "      <th>split4_train_score</th>\n",
       "      <th>mean_train_score</th>\n",
       "      <th>std_train_score</th>\n",
       "    </tr>\n",
       "  </thead>\n",
       "  <tbody>\n",
       "    <tr>\n",
       "      <th>0</th>\n",
       "      <td>5.175195</td>\n",
       "      <td>0.130739</td>\n",
       "      <td>0.101485</td>\n",
       "      <td>0.007731</td>\n",
       "      <td>200</td>\n",
       "      <td>{'min_samples_split': 200}</td>\n",
       "      <td>0.818571</td>\n",
       "      <td>0.822381</td>\n",
       "      <td>0.821905</td>\n",
       "      <td>0.815952</td>\n",
       "      <td>...</td>\n",
       "      <td>0.819476</td>\n",
       "      <td>0.002383</td>\n",
       "      <td>1</td>\n",
       "      <td>0.823512</td>\n",
       "      <td>0.824048</td>\n",
       "      <td>0.823452</td>\n",
       "      <td>0.823988</td>\n",
       "      <td>0.824167</td>\n",
       "      <td>0.823833</td>\n",
       "      <td>0.000293</td>\n",
       "    </tr>\n",
       "    <tr>\n",
       "      <th>1</th>\n",
       "      <td>4.816691</td>\n",
       "      <td>0.126397</td>\n",
       "      <td>0.097192</td>\n",
       "      <td>0.006120</td>\n",
       "      <td>250</td>\n",
       "      <td>{'min_samples_split': 250}</td>\n",
       "      <td>0.818095</td>\n",
       "      <td>0.821429</td>\n",
       "      <td>0.820714</td>\n",
       "      <td>0.816905</td>\n",
       "      <td>...</td>\n",
       "      <td>0.818952</td>\n",
       "      <td>0.001786</td>\n",
       "      <td>2</td>\n",
       "      <td>0.823452</td>\n",
       "      <td>0.822262</td>\n",
       "      <td>0.823274</td>\n",
       "      <td>0.823036</td>\n",
       "      <td>0.823869</td>\n",
       "      <td>0.823179</td>\n",
       "      <td>0.000533</td>\n",
       "    </tr>\n",
       "    <tr>\n",
       "      <th>2</th>\n",
       "      <td>4.572980</td>\n",
       "      <td>0.080907</td>\n",
       "      <td>0.094627</td>\n",
       "      <td>0.008554</td>\n",
       "      <td>300</td>\n",
       "      <td>{'min_samples_split': 300}</td>\n",
       "      <td>0.816905</td>\n",
       "      <td>0.820714</td>\n",
       "      <td>0.820000</td>\n",
       "      <td>0.815476</td>\n",
       "      <td>...</td>\n",
       "      <td>0.817952</td>\n",
       "      <td>0.002035</td>\n",
       "      <td>5</td>\n",
       "      <td>0.821964</td>\n",
       "      <td>0.820833</td>\n",
       "      <td>0.821488</td>\n",
       "      <td>0.822560</td>\n",
       "      <td>0.821726</td>\n",
       "      <td>0.821714</td>\n",
       "      <td>0.000566</td>\n",
       "    </tr>\n",
       "    <tr>\n",
       "      <th>3</th>\n",
       "      <td>4.480813</td>\n",
       "      <td>0.102628</td>\n",
       "      <td>0.090619</td>\n",
       "      <td>0.006250</td>\n",
       "      <td>350</td>\n",
       "      <td>{'min_samples_split': 350}</td>\n",
       "      <td>0.818810</td>\n",
       "      <td>0.820238</td>\n",
       "      <td>0.821667</td>\n",
       "      <td>0.815238</td>\n",
       "      <td>...</td>\n",
       "      <td>0.818619</td>\n",
       "      <td>0.002261</td>\n",
       "      <td>3</td>\n",
       "      <td>0.821548</td>\n",
       "      <td>0.819643</td>\n",
       "      <td>0.820179</td>\n",
       "      <td>0.821726</td>\n",
       "      <td>0.821310</td>\n",
       "      <td>0.820881</td>\n",
       "      <td>0.000821</td>\n",
       "    </tr>\n",
       "    <tr>\n",
       "      <th>4</th>\n",
       "      <td>4.369770</td>\n",
       "      <td>0.098246</td>\n",
       "      <td>0.087494</td>\n",
       "      <td>0.007654</td>\n",
       "      <td>400</td>\n",
       "      <td>{'min_samples_split': 400}</td>\n",
       "      <td>0.816429</td>\n",
       "      <td>0.821905</td>\n",
       "      <td>0.819286</td>\n",
       "      <td>0.815238</td>\n",
       "      <td>...</td>\n",
       "      <td>0.818095</td>\n",
       "      <td>0.002328</td>\n",
       "      <td>4</td>\n",
       "      <td>0.820536</td>\n",
       "      <td>0.820417</td>\n",
       "      <td>0.819821</td>\n",
       "      <td>0.820952</td>\n",
       "      <td>0.820833</td>\n",
       "      <td>0.820512</td>\n",
       "      <td>0.000396</td>\n",
       "    </tr>\n",
       "  </tbody>\n",
       "</table>\n",
       "<p>5 rows × 21 columns</p>\n",
       "</div>"
      ],
      "text/plain": [
       "   mean_fit_time  std_fit_time  mean_score_time  std_score_time  \\\n",
       "0       5.175195      0.130739         0.101485        0.007731   \n",
       "1       4.816691      0.126397         0.097192        0.006120   \n",
       "2       4.572980      0.080907         0.094627        0.008554   \n",
       "3       4.480813      0.102628         0.090619        0.006250   \n",
       "4       4.369770      0.098246         0.087494        0.007654   \n",
       "\n",
       "  param_min_samples_split                      params  split0_test_score  \\\n",
       "0                     200  {'min_samples_split': 200}           0.818571   \n",
       "1                     250  {'min_samples_split': 250}           0.818095   \n",
       "2                     300  {'min_samples_split': 300}           0.816905   \n",
       "3                     350  {'min_samples_split': 350}           0.818810   \n",
       "4                     400  {'min_samples_split': 400}           0.816429   \n",
       "\n",
       "   split1_test_score  split2_test_score  split3_test_score  ...  \\\n",
       "0           0.822381           0.821905           0.815952  ...   \n",
       "1           0.821429           0.820714           0.816905  ...   \n",
       "2           0.820714           0.820000           0.815476  ...   \n",
       "3           0.820238           0.821667           0.815238  ...   \n",
       "4           0.821905           0.819286           0.815238  ...   \n",
       "\n",
       "   mean_test_score  std_test_score  rank_test_score  split0_train_score  \\\n",
       "0         0.819476        0.002383                1            0.823512   \n",
       "1         0.818952        0.001786                2            0.823452   \n",
       "2         0.817952        0.002035                5            0.821964   \n",
       "3         0.818619        0.002261                3            0.821548   \n",
       "4         0.818095        0.002328                4            0.820536   \n",
       "\n",
       "   split1_train_score  split2_train_score  split3_train_score  \\\n",
       "0            0.824048            0.823452            0.823988   \n",
       "1            0.822262            0.823274            0.823036   \n",
       "2            0.820833            0.821488            0.822560   \n",
       "3            0.819643            0.820179            0.821726   \n",
       "4            0.820417            0.819821            0.820952   \n",
       "\n",
       "   split4_train_score  mean_train_score  std_train_score  \n",
       "0            0.824167          0.823833         0.000293  \n",
       "1            0.823869          0.823179         0.000533  \n",
       "2            0.821726          0.821714         0.000566  \n",
       "3            0.821310          0.820881         0.000821  \n",
       "4            0.820833          0.820512         0.000396  \n",
       "\n",
       "[5 rows x 21 columns]"
      ]
     },
     "execution_count": 29,
     "metadata": {},
     "output_type": "execute_result"
    }
   ],
   "source": [
    "# scores of GridSearch CV\n",
    "scores = rf.cv_results_\n",
    "pd.DataFrame(scores).head()"
   ]
  },
  {
   "cell_type": "code",
   "execution_count": 30,
   "metadata": {},
   "outputs": [
    {
     "data": {
      "image/png": "[encoded data removed]",
      "text/plain": [
       "<Figure size 432x288 with 1 Axes>"
      ]
     },
     "metadata": {
      "needs_background": "light"
     },
     "output_type": "display_data"
    }
   ],
   "source": [
    "# plotting accuracies with min_samples_split\n",
    "plt.figure()\n",
    "plt.plot(scores[\"param_min_samples_split\"], \n",
    "         scores[\"mean_train_score\"], \n",
    "         label=\"training accuracy\")\n",
    "plt.plot(scores[\"param_min_samples_split\"], \n",
    "         scores[\"mean_test_score\"], \n",
    "         label=\"test accuracy\")\n",
    "plt.xlabel(\"min_samples_split\")\n",
    "plt.ylabel(\"Accuracy\")\n",
    "plt.legend()\n",
    "plt.show()"
   ]
  },
  {
   "cell_type": "markdown",
   "metadata": {},
   "source": [
    "<hr>"
   ]
  },
  {
   "cell_type": "markdown",
   "metadata": {},
   "source": [
    "## Grid Search to Find Optimal Hyperparameters"
   ]
  },
  {
   "cell_type": "code",
   "execution_count": 31,
   "metadata": {},
   "outputs": [],
   "source": [
    "# Create the parameter grid based on the results of random search \n",
    "param_grid = {\n",
    "    'max_depth': [4,8,10],\n",
    "    'min_samples_leaf': range(100, 400, 200),\n",
    "    'min_samples_split': range(200, 500, 200),\n",
    "    'n_estimators': [100,200, 300], \n",
    "    'max_features': [5, 10]\n",
    "}\n",
    "# Create a based model\n",
    "rf = RandomForestClassifier()\n",
    "# Instantiate the grid search model\n",
    "grid_search = GridSearchCV(estimator = rf, param_grid = param_grid, \n",
    "                          cv = 3, n_jobs = -1,verbose = 1)"
   ]
  },
  {
   "cell_type": "code",
   "execution_count": 32,
   "metadata": {},
   "outputs": [
    {
     "name": "stderr",
     "output_type": "stream",
     "text": [
      "[Parallel(n_jobs=-1)]: Using backend LokyBackend with 4 concurrent workers.\n"
     ]
    },
    {
     "name": "stdout",
     "output_type": "stream",
     "text": [
      "Fitting 3 folds for each of 72 candidates, totalling 216 fits\n"
     ]
    },
    {
     "name": "stderr",
     "output_type": "stream",
     "text": [
      "[Parallel(n_jobs=-1)]: Done  42 tasks      | elapsed:  1.6min\n",
      "[Parallel(n_jobs=-1)]: Done 192 tasks      | elapsed: 10.0min\n",
      "[Parallel(n_jobs=-1)]: Done 216 out of 216 | elapsed: 11.9min finished\n"
     ]
    },
    {
     "data": {
      "text/plain": [
       "GridSearchCV(cv=3, error_score=nan,\n",
       "             estimator=RandomForestClassifier(bootstrap=True, ccp_alpha=0.0,\n",
       "                                              class_weight=None,\n",
       "                                              criterion='gini', max_depth=None,\n",
       "                                              max_features='auto',\n",
       "                                              max_leaf_nodes=None,\n",
       "                                              max_samples=None,\n",
       "                                              min_impurity_decrease=0.0,\n",
       "                                              min_impurity_split=None,\n",
       "                                              min_samples_leaf=1,\n",
       "                                              min_samples_split=2,\n",
       "                                              min_weight_fraction_leaf=0.0,\n",
       "                                              n_estimators=100, n_jobs=None,\n",
       "                                              oob_score=False,\n",
       "                                              random_state=None, verbose=0,\n",
       "                                              warm_start=False),\n",
       "             iid='deprecated', n_jobs=-1,\n",
       "             param_grid={'max_depth': [4, 8, 10], 'max_features': [5, 10],\n",
       "                         'min_samples_leaf': range(100, 400, 200),\n",
       "                         'min_samples_split': range(200, 500, 200),\n",
       "                         'n_estimators': [100, 200, 300]},\n",
       "             pre_dispatch='2*n_jobs', refit=True, return_train_score=False,\n",
       "             scoring=None, verbose=1)"
      ]
     },
     "execution_count": 32,
     "metadata": {},
     "output_type": "execute_result"
    }
   ],
   "source": [
    "grid_search.fit(X_train, y_train)"
   ]
  },
  {
   "cell_type": "code",
   "execution_count": 33,
   "metadata": {},
   "outputs": [
    {
     "name": "stdout",
     "output_type": "stream",
     "text": [
      "We can get accuracy of 0.8182857142857142 using {'max_depth': 4, 'max_features': 10, 'min_samples_leaf': 100, 'min_samples_split': 400, 'n_estimators': 100}\n"
     ]
    }
   ],
   "source": [
    "# printing the optimal accuracy score and hyperparameters\n",
    "print('We can get accuracy of',grid_search.best_score_,'using',grid_search.best_params_)"
   ]
  },
  {
   "cell_type": "markdown",
   "metadata": {},
   "source": [
    "**Fitting the final model with the best parameters obtained from grid search.**"
   ]
  },
  {
   "cell_type": "code",
   "execution_count": 34,
   "metadata": {},
   "outputs": [],
   "source": [
    "# model with the best hyperparameters\n",
    "from sklearn.ensemble import RandomForestClassifier\n",
    "rfc = RandomForestClassifier(bootstrap=True,\n",
    "                             max_depth=10,\n",
    "                             min_samples_leaf=100, \n",
    "                             min_samples_split=200,\n",
    "                             max_features=10,\n",
    "                             n_estimators=100)"
   ]
  },
  {
   "cell_type": "code",
   "execution_count": 35,
   "metadata": {},
   "outputs": [
    {
     "data": {
      "text/plain": [
       "RandomForestClassifier(bootstrap=True, ccp_alpha=0.0, class_weight=None,\n",
       "                       criterion='gini', max_depth=10, max_features=10,\n",
       "                       max_leaf_nodes=None, max_samples=None,\n",
       "                       min_impurity_decrease=0.0, min_impurity_split=None,\n",
       "                       min_samples_leaf=100, min_samples_split=200,\n",
       "                       min_weight_fraction_leaf=0.0, n_estimators=100,\n",
       "                       n_jobs=None, oob_score=False, random_state=None,\n",
       "                       verbose=0, warm_start=False)"
      ]
     },
     "execution_count": 35,
     "metadata": {},
     "output_type": "execute_result"
    }
   ],
   "source": [
    "rfc.fit(X_train,y_train)"
   ]
  },
  {
   "cell_type": "code",
   "execution_count": 36,
   "metadata": {},
   "outputs": [],
   "source": [
    "predictions = rfc.predict(X_test)"
   ]
  },
  {
   "cell_type": "code",
   "execution_count": 37,
   "metadata": {},
   "outputs": [],
   "source": [
    "# evaluation metrics\n",
    "from sklearn.metrics import classification_report,confusion_matrix"
   ]
  },
  {
   "cell_type": "code",
   "execution_count": 38,
   "metadata": {},
   "outputs": [
    {
     "name": "stdout",
     "output_type": "stream",
     "text": [
      "              precision    recall  f1-score   support\n",
      "\n",
      "           0       0.84      0.96      0.90      7058\n",
      "           1       0.69      0.36      0.47      1942\n",
      "\n",
      "    accuracy                           0.83      9000\n",
      "   macro avg       0.77      0.66      0.68      9000\n",
      "weighted avg       0.81      0.83      0.80      9000\n",
      "\n"
     ]
    }
   ],
   "source": [
    "print(classification_report(y_test,predictions))"
   ]
  },
  {
   "cell_type": "code",
   "execution_count": 39,
   "metadata": {},
   "outputs": [
    {
     "name": "stdout",
     "output_type": "stream",
     "text": [
      "[[6754  304]\n",
      " [1252  690]]\n"
     ]
    }
   ],
   "source": [
    "print(confusion_matrix(y_test,predictions))"
   ]
  },
  {
   "cell_type": "code",
   "execution_count": 40,
   "metadata": {},
   "outputs": [
    {
     "data": {
      "text/plain": [
       "0.8272222222222222"
      ]
     },
     "execution_count": 40,
     "metadata": {},
     "output_type": "execute_result"
    }
   ],
   "source": [
    "(6754+690)/(6754+690+304+1252)"
   ]
  },
  {
   "cell_type": "code",
   "execution_count": null,
   "metadata": {},
   "outputs": [],
   "source": []
  }
 ],
 "metadata": {
  "kernelspec": {
   "display_name": "Python 3",
   "language": "python",
   "name": "python3"
  },
  "language_info": {
   "codemirror_mode": {
    "name": "ipython",
    "version": 3
   },
   "file_extension": ".py",
   "mimetype": "text/x-python",
   "name": "python",
   "nbconvert_exporter": "python",
   "pygments_lexer": "ipython3",
   "version": "3.7.6"
  }
 },
 "nbformat": 4,
 "nbformat_minor": 2
}
